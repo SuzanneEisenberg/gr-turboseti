{
 "metadata": {
  "language_info": {
   "codemirror_mode": {
    "name": "ipython",
    "version": 3
   },
   "file_extension": ".py",
   "mimetype": "text/x-python",
   "name": "python",
   "nbconvert_exporter": "python",
   "pygments_lexer": "ipython3",
   "version": "3.8.5"
  },
  "orig_nbformat": 4,
  "kernelspec": {
   "name": "python3",
   "display_name": "Python 3.8.5 64-bit ('base': conda)"
  },
  "interpreter": {
   "hash": "9cc273a5df71486cc71a39a261bf6d82d026507ff1b51fa9f8def4a2173a39cc"
  }
 },
 "nbformat": 4,
 "nbformat_minor": 2,
 "cells": [
  {
   "cell_type": "code",
   "execution_count": 7,
   "metadata": {},
   "outputs": [
    {
     "output_type": "stream",
     "name": "stdout",
     "text": [
      "Which telescope?! Try again!\n"
     ]
    },
    {
     "output_type": "error",
     "ename": "SystemExit",
     "evalue": "0",
     "traceback": [
      "An exception has occurred, use %tb to see the full traceback.\n",
      "\u001b[1;31mSystemExit\u001b[0m\u001b[1;31m:\u001b[0m 0\n"
     ]
    }
   ],
   "source": [
    "import sys\n",
    "from datetime import *\n",
    "import ephem\n",
    "if len(sys.argv)<2:\n",
    "    print(\"Usage: lst/mjd [site]\")\n",
    "    print(' ')\n",
    "    print(\"This program returns the current location, LST, UT and MJD for a given site\")\n",
    "    print(\"e.g. lst jbo produces\")\n",
    "    print(\"Site = Jodrell Bank\")\n",
    "    print(\"Long,Lat = -2:18:25.7 53:14:13.2\")\n",
    "    print(\"LST = 17:51:18.81\")\n",
    "    print(\"UT = 2011/11/10 14:42:53\")\n",
    "    print(\"UT (MJD) = 55875.6131134\")\n",
    "    sys.exit(0)\n",
    "place=sys.argv[1]\n",
    "site=ephem.Observer()\n",
    "# NB. I got all coordinates from wikipedia. Sorry if they are incorrect!\n",
    "if (place==\"jbo\" or place==\"jodrell\"):\n",
    "    site.long = '-2.30715'\n",
    "    site.lat = '53.23700'\n",
    "    site.elevation = 0\n",
    "    place = \"Jodrell Bank\"\n",
    "elif (place==\"birr\" or place==\"Birr\" or place==\"I-LOFAR\" or place==\"ilofar\"):\n",
    "    site.long = '-7.9133'\n",
    "    site.lat = '53.0914'\n",
    "    site.elevation = 0\n",
    "    place = \"Birr\"\n",
    "elif (place==\"eff\" or place==\"effelsberg\"):\n",
    "    site.long = '6:52:58'\n",
    "    site.lat = '50:31:29'\n",
    "    site.elevation = 0\n",
    "    place = \"Effelsberg\"\n",
    "elif (place==\"srt\" or place==\"sardinia\"):\n",
    "    site.long = '9:14:43'\n",
    "    site.lat = '39:29:35'\n",
    "    site.elevation = 0\n",
    "    place = \"Sardinia Radio Telescope\"\n",
    "elif (place==\"wsrt\" or place==\"westerbork\"):\n",
    "    site.long = '6:36:12'\n",
    "    site.lat = '52:54:53'\n",
    "    site.elevation = 0\n",
    "    place = \"Westerbork Synthesis Radio Telescope\"\n",
    "elif (place==\"nancay\"):\n",
    "    site.long = '2:12'\n",
    "    site.lat = '47:23'\n",
    "    site.elevation = 0\n",
    "    place = \"Nancay Radio Telescope\"\n",
    "elif (place==\"gbt\"):\n",
    "    site.long = '-79:50:23'\n",
    "    site.lat = '38:25:59'\n",
    "    site.elevation = 0\n",
    "    place = \"Green Bank Telescope\"\n",
    "elif (place==\"pks\" or place==\"parkes\"):\n",
    "    site.long = '148:15:44.3'\n",
    "    site.lat = '-32:59:59.8'\n",
    "    site.elevation = 0\n",
    "    place = \"Parkes Observatory\"\n",
    "elif (place==\"arecibo\"):\n",
    "    site.long = '-66:45:10'\n",
    "    site.lat = '18:20:39'\n",
    "    site.elevation = 0\n",
    "    place = \"Arecibo\"\n",
    "elif (place==\"vla\"):\n",
    "    site.long = '-107.61835'\n",
    "    site.lat = '34.078967'\n",
    "    site.elevation = 0\n",
    "    place = \"Very Large Array\"\n",
    "elif (place==\"gmrt\"):\n",
    "    site.long = '74:02:59.07'\n",
    "    site.lat = '19:05:47.46'\n",
    "    site.elevation = 0\n",
    "    place = \"The Giant Metrewave Radio Telescope\"\n",
    "elif (place==\"lofar\"):\n",
    "    site.long = '6:52:08.18'\n",
    "    site.lat = '52:54:31.55'\n",
    "    site.elevation = 0\n",
    "    place = \"LOFAR Superterp\"\n",
    "else:\n",
    "    print(\"Which telescope?! Try again!\")\n",
    "    sys.exit(0)\n",
    "site.date=datetime.utcnow()\n",
    "print(\"Site =\",place)\n",
    "print(\"Long,Lat =\",site.long,site.lat)\n",
    "print(\"LST =\",site.sidereal_time())\n",
    "print(\"UT =\",site.date)\n",
    "print(\"UT (MJD) =\",site.date+15019.5)\n",
    "## NB pyephem records Dublin Julian Day Number not MJD\n",
    "## see Table in en.wikipedia.org/wiki/Julian_day for more info"
   ]
  }
 ]
}